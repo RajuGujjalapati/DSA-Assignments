{
  "nbformat": 4,
  "nbformat_minor": 0,
  "metadata": {
    "colab": {
      "name": "Window Sliding Technique.ipynb",
      "provenance": [],
      "collapsed_sections": [],
      "authorship_tag": "ABX9TyMFwk31yJOcGGGrFp+Xd/G3",
      "include_colab_link": true
    },
    "kernelspec": {
      "name": "python3",
      "display_name": "Python 3"
    },
    "language_info": {
      "name": "python"
    }
  },
  "cells": [
    {
      "cell_type": "markdown",
      "metadata": {
        "id": "view-in-github",
        "colab_type": "text"
      },
      "source": [
        "<a href=\"https://colab.research.google.com/github/RajuGujjalapati/DSA-Assignments/blob/main/Window_Sliding_Technique.ipynb\" target=\"_parent\"><img src=\"https://colab.research.google.com/assets/colab-badge.svg\" alt=\"Open In Colab\"/></a>"
      ]
    },
    {
      "cell_type": "markdown",
      "metadata": {
        "id": "DYpZPw-oIbIG"
      },
      "source": [
        "refer: https://www.geeksforgeeks.org/window-sliding-technique/"
      ]
    },
    {
      "cell_type": "markdown",
      "metadata": {
        "id": "fXs_1ToLIiT1"
      },
      "source": [
        "This technique shows how a nested for loop in some problems can be converted to a single for loop to reduce the time complexity."
      ]
    },
    {
      "cell_type": "code",
      "metadata": {
        "id": "5Nmt9Ey5ITMG"
      },
      "source": [
        "# code\n",
        "import sys\n",
        "# O(n * k) solution for finding\n",
        "# maximum sum of a subarray of size k\n",
        "INT_MIN = -sys.maxsize - 1\n",
        "\n",
        "# Returns maximum sum in a\n",
        "# subarray of size k.\n",
        "\n",
        "\n",
        "def maxSum(arr, n, k):\n",
        "\n",
        "\t# Initialize result\n",
        "\tmax_sum = INT_MIN\n",
        "\n",
        "\t# Consider all blocks\n",
        "\t# starting with i.\n",
        "  # n-k+1 helps to give num, which helps to give final block num for consecutive iteration.\n",
        "\tfor i in range(n - k + 1):\n",
        "\t\tcurrent_sum = 0\n",
        "\t\tfor j in range(k):\n",
        "\t\t\tcurrent_sum = current_sum + arr[i + j]\n",
        "\n",
        "\t\t# Update result if required.\n",
        "\t\tmax_sum = max(current_sum, max_sum)\n",
        "\n",
        "\treturn max_sum\n",
        "\n",
        "\n",
        "# Driver code\n",
        "arr = [1, 4, 2, 10, 23, 3, 1, 0, 20]\n",
        "k = 4\n",
        "n ='' len(arr)\n",
        "print(maxSum(arr, n, k))\n",
        "\n",
        "# This code is contributed by mits\n"
      ],
      "execution_count": null,
      "outputs": []
    }
  ]
}